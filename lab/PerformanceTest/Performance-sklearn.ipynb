{
 "cells": [
  {
   "cell_type": "markdown",
   "metadata": {},
   "source": [
    "# Performance sklearn\n",
    "This notebook is for trying Python machine learning package `sklearn` methods. Perhaps I'll give some performance test as well."
   ]
  },
  {
   "cell_type": "code",
   "execution_count": null,
   "metadata": {
    "collapsed": true
   },
   "outputs": [],
   "source": [
    "import numpy as np\n",
    "import matplotlib.pyplot as plt\n",
    "import pandas as pd\n",
    "from datetime import *\n",
    "from sklearn import svm\n",
    "%matplotlib inline"
   ]
  },
  {
   "cell_type": "markdown",
   "metadata": {},
   "source": [
    "## SVM Bounday\n",
    "Learn well separated 2 classes, imbalanced, with rate 1:5.  \n",
    "Generate two classes:  \n",
    "* Minority (40 samples): $x,y\\sim N(0,1)$ \n",
    "* Majority (200 samples): $x,y\\sim N(10,25)$\n",
    "\n",
    "Here's a demo\n",
    "Merge them together with a shuffle."
   ]
  },
  {
   "cell_type": "code",
   "execution_count": null,
   "metadata": {
    "collapsed": false
   },
   "outputs": [],
   "source": [
    "x=np.random.randn(40)\n",
    "y=np.random.randn(40)\n",
    "d1=np.vstack((x,y,np.zeros(40)))\n",
    "x=np.random.randn(200)*5+10\n",
    "y=np.random.randn(200)*5+10\n",
    "d2=np.vstack((x,y,np.ones(200)))\n",
    "data=np.vstack((d1.T, d2.T))\n",
    "np.random.shuffle(data)\n",
    "d1=data[data[:, -1]==0, :-1]\n",
    "d2=data[data[:, -1]==1,:-1]\n",
    "plt.plot(zip(*d1)[0], zip(*d1)[1], 'x')\n",
    "plt.plot(zip(*d2)[0], zip(*d2)[1], '.')\n",
    "plt.xlim(-5, 25)\n",
    "plt.ylim(-5, 25)\n",
    "plt.show()"
   ]
  },
  {
   "cell_type": "markdown",
   "metadata": {},
   "source": [
    "### Train with default SVM\n",
    "Use `sklearn.svm.SVC` with default settings, `rbf kernel, C=1`"
   ]
  },
  {
   "cell_type": "code",
   "execution_count": null,
   "metadata": {
    "collapsed": false
   },
   "outputs": [],
   "source": [
    "bsvm=svm.SVC()\n",
    "bsvm.fit(data[:,:-1], data[:,-1])"
   ]
  },
  {
   "cell_type": "markdown",
   "metadata": {},
   "source": [
    "### The boundary\n",
    "The boundary of the trained SVM."
   ]
  },
  {
   "cell_type": "code",
   "execution_count": null,
   "metadata": {
    "collapsed": false
   },
   "outputs": [],
   "source": [
    "x=np.arange(-5,25,0.1)\n",
    "y=x\n",
    "X,Y=np.meshgrid(x,y)\n",
    "grid_points=np.c_[X.ravel(), Y.ravel()]\n",
    "Z=bsvm.predict(grid_points)\n",
    "Z=Z.reshape((len(x),-1))\n",
    "plt.contour(x,y,Z, 1)\n",
    "plt.plot(zip(*d1)[0], zip(*d1)[1], 'x')\n",
    "plt.plot(zip(*d2)[0], zip(*d2)[1], '.')\n",
    "plt.xlim(-5, 25)\n",
    "plt.ylim(-5, 25)"
   ]
  },
  {
   "cell_type": "markdown",
   "metadata": {},
   "source": [
    "## One Class SVM\n",
    "Then I try `one-class SVM`, which is a good method for extremly imbalanced data, to catch the representation of majority class, and regard minority's as outliers.  \n",
    "The boundary of `one-class SVM` is demostrated bellow.  \n",
    "Note that using `RBF` kernels, as $\\gamma = 1/\\sigma^2$, extrem $\\gamma$ values cause extrem classification results, when\n",
    "* $\\gamma \\rightarrow 0$, **entire** over-fitting happens.\n",
    "* $\\gamma \\rightarrow +\\infty$, **unable** to classify the data."
   ]
  },
  {
   "cell_type": "code",
   "execution_count": null,
   "metadata": {
    "collapsed": false
   },
   "outputs": [],
   "source": [
    "def foo(gamma):\n",
    "    vsvm=svm.OneClassSVM(kernel='rbf', gamma=gamma)\n",
    "    vsvm.fit(d2, np.ones(len(d2)))\n",
    "    x=np.arange(-5,25,0.1)\n",
    "    y=x\n",
    "    X,Y=np.meshgrid(x,y)\n",
    "    grid_points=np.c_[X.ravel(), Y.ravel()]\n",
    "    Z=vsvm.predict(grid_points)\n",
    "    Z=Z.reshape((len(x),-1))\n",
    "    plt.contour(x,y,Z, 1)\n",
    "    plt.plot(zip(*d1)[0], zip(*d1)[1], 'x')\n",
    "    plt.plot(zip(*d2)[0], zip(*d2)[1], '.')\n",
    "    plt.xlim(-5, 25)\n",
    "    plt.ylim(-5, 25)\n",
    "\n",
    "\n",
    "plt.gcf().set_size_inches(12,4)\n",
    "plt.subplot(121)\n",
    "foo(5)\n",
    "plt.title(r'$\\gamma = 5$, Unclassifiable')\n",
    "plt.subplot(122)\n",
    "foo(1e-9)\n",
    "plt.title(r'$\\gamma = 1e^{-9}$, Overfitting')"
   ]
  },
  {
   "cell_type": "markdown",
   "metadata": {
    "collapsed": true
   },
   "source": [
    "## Decision Tree and Small Disjuncts\n",
    "We leverage decision tree to find small disjuncts and see how they affect the performance of classifier in imbalanced problem."
   ]
  },
  {
   "cell_type": "code",
   "execution_count": null,
   "metadata": {
    "collapsed": false
   },
   "outputs": [],
   "source": [
    "import json\n",
    "import pandas as pd\n",
    "from sklearn import tree\n",
    "import seaborn as sns\n",
    "\n",
    "\n",
    "conf=json.load(open('../../conf.json'))\n",
    "pima=pd.read_csv(conf[\"dpath\"]+'/pima/pima.data')\n",
    "pima['class'].value_counts().plot(kind='bar')\n",
    "sns.pairplot(pima, hue='class')\n"
   ]
  },
  {
   "cell_type": "code",
   "execution_count": null,
   "metadata": {
    "collapsed": false
   },
   "outputs": [],
   "source": [
    "X=pima.ix[:, 0:8]\n",
    "y=pima.ix[:, 8]\n",
    "clf=tree.DecisionTreeClassifier()\n",
    "clf.fit(X, y)"
   ]
  },
  {
   "cell_type": "code",
   "execution_count": null,
   "metadata": {
    "collapsed": false
   },
   "outputs": [],
   "source": [
    "from IPython.display import Image\n",
    "from sklearn.externals.six import StringIO\n",
    "import pydot\n",
    "\n",
    "\n",
    "dot_data = StringIO()\n",
    "tree.export_graphviz(clf, out_file=dot_data,\n",
    "                     feature_names=list(pima.columns[:8]),\n",
    "                     class_names=np.array(['negative', 'positive']),\n",
    "                     filled=True, rounded=True,\n",
    "                     special_characters=True)\n",
    "graph = pydot.graph_from_dot_data(dot_data.getvalue())\n",
    "Image(graph.create_png())"
   ]
  }
 ],
 "metadata": {
  "kernelspec": {
   "display_name": "Python 2",
   "language": "python",
   "name": "python2"
  },
  "language_info": {
   "codemirror_mode": {
    "name": "ipython",
    "version": 2
   },
   "file_extension": ".py",
   "mimetype": "text/x-python",
   "name": "python",
   "nbconvert_exporter": "python",
   "pygments_lexer": "ipython2",
   "version": "2.7.11"
  }
 },
 "nbformat": 4,
 "nbformat_minor": 0
}
