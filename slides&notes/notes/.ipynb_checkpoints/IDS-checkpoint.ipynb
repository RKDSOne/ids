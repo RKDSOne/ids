{
 "cells": [
  {
   "cell_type": "markdown",
   "metadata": {},
   "source": [
    "# IDS\n",
    "**I**mbalanced **D**ata **S**et (IDS), which means the dataset with imbalanced proportion between different classes, arises in many real world applications. IDS problem is attracting growing attention, as traditional classifier such as `SVM`, `Decision Tree`, which assume that the training data is balanced and guarantee the overall accuracy, are not capable for IDS, especially when the imbalance rate goes up to $1:100$,$1:1000$ or even higher in some specific applications. \n",
    "Many approches have been proposed to solve this problem, while most of them focus on the model and results, there are few works conclude what to choose facing different applications.\n",
    "\n",
    "## The Nature Of The Problem\n",
    "\n",
    "### Why so many imbalanced data in real-world applications?\n",
    "Many real-world applications assign more attention to the special events and issues.  \n",
    "balabalabala... ** SHOW CASE STUDIES, ONE OR MORE REAL-WORLD EXAMPLES **\n",
    "\n",
    "Hence, the many classification task reveals to care the \n",
    "What users want?\n",
    "\n",
    "### Challenges to traditional classifiers\n",
    "It's difficult for traditional classifiers to handle IDS, mainly on two reasons.\n",
    "\n",
    "- Biased Objective Function. Less cost misclassifying the minority.\n",
    "- Improper metric.\n",
    "\n",
    "There are mainly three techniques to solve the problem.\n",
    "\n",
    "- Sampling methods\n",
    "- Cost sensitive learning\n",
    "- Ensemble methods\n",
    "\n",
    "The drawback of sampling methods and cost-sensitive learning is that we need to prefix the `Cost Matrix` to evaluate \n",
    "\n",
    "### Choose appropriate metric\n",
    "** According to the definition of accuracy, majority classes are hence assigned to more importance in accuracy score. **\n",
    "\n",
    "Another problem is how to evaluate the trained models. Since most classifier assumes the balance of training data, the overall accuracy, $$Accuracy = \\frac{Examples\\ classified}{Examples}$$, is chosen to evaluate the model.The problem arises in IDS problems that the classifier tends to cover the majority class better than the minority, e.g., when the imbalance rate comes to $1:99$, simply classifying all examples as negative can reach 99% accuracy. The low capability of accuracy can be interpreted as the minority class's importance.\n",
    "So engineers have to choose another metric to identify the *best* model for their application. \n",
    "\n",
    "\n",
    "### Overlap between classes\n",
    "\n",
    "\n",
    "## References\n",
    "*\n",
    "[1] Cao, Peng, Dazhe Zhao, and Osmar Zaiane. \"An optimized cost-sensitive SVM for imbalanced data learning.\" Advances in Knowledge Discovery and Data Mining. Springer Berlin Heidelberg, 2013. 280-292.\n",
    "*"
   ]
  },
  {
   "cell_type": "code",
   "execution_count": null,
   "metadata": {
    "collapsed": true
   },
   "outputs": [],
   "source": []
  },
  {
   "cell_type": "code",
   "execution_count": null,
   "metadata": {
    "collapsed": true
   },
   "outputs": [],
   "source": []
  },
  {
   "cell_type": "code",
   "execution_count": null,
   "metadata": {
    "collapsed": true
   },
   "outputs": [],
   "source": []
  },
  {
   "cell_type": "markdown",
   "metadata": {},
   "source": [
    "## The Nature Of Imbalanced Data\n",
    "### Small Disjuncts and Evaluation\n",
    "- How to find all `disjuncts`?\n",
    "- How to describe the imbalanced data using `disjuncts` features?\n",
    "\n",
    "### Overlap\n",
    "Classification suffers from the overlap between classes in feature space. Overlap exists everywhere in data mining tasks, making it difficult to find the trade-off from under-fitting to over-fitting. Severe overlap can be even regarded as the result of bad feature extraction. **Figure 1** ...\n",
    "\n",
    "However, in imbalanced data, the problem of overlap becomes more interesting. \n",
    "\n",
    "### FEATURE or METHODOLOGY?\n",
    "Severe overlap can cause low performance, how can we identify whether the under-represented data is caused by feature extraction?\n",
    "\n",
    "## Data Description Methodology\n",
    "Let the original dataset be $\\{X, y\\}$, $k$ the number of nearest neighbors to find.Denote $NN(x), NN_{+}(x)$ to be the $k$ nearest neighbors of $x$ in $X$ and minority samples subset $X_{+}$ correspodingly.\n",
    "\n",
    "### Distribution of minority data\n",
    "Small disjuncts are more likely to be misclassified. To descirbe how much the data is contained with small disjuncts, we propose the Within-Between Neighbor Ratio $r(x)$ for example $x$,\n",
    "$$r(x)=\\frac{\\sum _ {nn \\in NN(x)}{dis(x,nn)}} {\\sum _ {nn \\in NN _ {+}(x)}{dis(x,nn)}}$$\n",
    "#### Kernel Density Estimation\n",
    "To have an intuitive overview of the distribution of minority examples, which helps us to make decisions, we can estimate the Gaussian Kernel Density of $r(x)$ involving all examples in $X$.\n",
    "\n",
    "## Comparison Of All Methodologies and Aggregation\n",
    "Many methodologies have been proposed to solve imbalanced learning, and it becomes crucial to answer 2 questions:  \n",
    "\n",
    "- Of all sampling methodologies, is there the globally best choice? Or they are all designed for certain datasets with specific features, thus we should investigate the data to make decision?\n",
    "- Would the ensemble of different ideas guarantee performance improvement compared to using one of them solely?\n",
    "\n",
    "## Arguements And Discussions\n",
    "### None-universal IDS problems\n",
    "IDS problems are simple and naive, when the performance and traditional classifiers  with imbalanced dataset.\n",
    ">*Yuhong's ambulance calls prediction is a problem naturally under-represented in feature space, thus the refinement of feature extraction benefits more than formulating it to be an IDS problem and brutely trying IDS techniques.*"
   ]
  },
  {
   "cell_type": "code",
   "execution_count": null,
   "metadata": {
    "collapsed": true
   },
   "outputs": [],
   "source": []
  },
  {
   "cell_type": "code",
   "execution_count": null,
   "metadata": {
    "collapsed": true
   },
   "outputs": [],
   "source": []
  },
  {
   "cell_type": "code",
   "execution_count": null,
   "metadata": {
    "collapsed": true
   },
   "outputs": [],
   "source": []
  }
 ],
 "metadata": {
  "kernelspec": {
   "display_name": "Python 2",
   "language": "python",
   "name": "python2"
  },
  "language_info": {
   "codemirror_mode": {
    "name": "ipython",
    "version": 2
   },
   "file_extension": ".py",
   "mimetype": "text/x-python",
   "name": "python",
   "nbconvert_exporter": "python",
   "pygments_lexer": "ipython2",
   "version": "2.7.11"
  }
 },
 "nbformat": 4,
 "nbformat_minor": 0
}
