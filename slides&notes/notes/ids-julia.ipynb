{
 "cells": [
  {
   "cell_type": "code",
   "execution_count": 15,
   "metadata": {
    "collapsed": false
   },
   "outputs": [
    {
     "data": {
      "text/plain": [
       "\"{\\\"dpath\\\": \\\"\\\\\\\\\\\\\\\\msralpa\\\\\\\\users\\\\\\\\v-tianhe\\\\\\\\private\\\\\\\\work\\\\\\\\ids\\\\\\\\data\\\"}\""
      ]
     },
     "execution_count": 15,
     "metadata": {},
     "output_type": "execute_result"
    }
   ],
   "source": [
    "import JSON\n",
    "\n",
    "tmp=open(\"../../conf.json\", \"r\")\n",
    "conf=readall(tmp)\n",
    "close(tmp)\n",
    "conf=JSON.parse(conf)"
   ]
  },
  {
   "cell_type": "code",
   "execution_count": 19,
   "metadata": {
    "collapsed": false
   },
   "outputs": [
    {
     "ename": "LoadError",
     "evalue": "LoadError: MethodError: `open` has no method matching open(::ASCIIString, ::Char)\nClosest candidates are:\n  open(::AbstractString)\n  open(::AbstractString, !Matched::Bool, !Matched::Bool, !Matched::Bool, !Matched::Bool, !Matched::Bool)\n  open(::AbstractString, !Matched::AbstractString)\n  ...\nwhile loading In[19], in expression starting on line 8",
     "output_type": "error",
     "traceback": [
      "LoadError: MethodError: `open` has no method matching open(::ASCIIString, ::Char)\nClosest candidates are:\n  open(::AbstractString)\n  open(::AbstractString, !Matched::Bool, !Matched::Bool, !Matched::Bool, !Matched::Bool, !Matched::Bool)\n  open(::AbstractString, !Matched::AbstractString)\n  ...\nwhile loading In[19], in expression starting on line 8",
      ""
     ]
    }
   ],
   "source": [
    "# read data\n",
    "#       letter\n",
    "#       sat - test\n",
    "#       abalone\n",
    "#       mf\n",
    "#       pima\n",
    "#       isolet - test\n",
    "sat_os=open(conf[\"dpath\"]*\"/sat/sat.data\", 'r')\n",
    "sat_str = readall(sat_os)\n",
    "close(sat_os)\n",
    "\n",
    "dsat.string.visual\n",
    "dsat=open(\"\")"
   ]
  },
  {
   "cell_type": "code",
   "execution_count": null,
   "metadata": {
    "collapsed": true
   },
   "outputs": [],
   "source": []
  }
 ],
 "metadata": {
  "kernelspec": {
   "display_name": "Julia 0.4.5",
   "language": "julia",
   "name": "julia-0.4"
  },
  "language_info": {
   "file_extension": ".jl",
   "mimetype": "application/julia",
   "name": "julia",
   "version": "0.4.5"
  }
 },
 "nbformat": 4,
 "nbformat_minor": 0
}
